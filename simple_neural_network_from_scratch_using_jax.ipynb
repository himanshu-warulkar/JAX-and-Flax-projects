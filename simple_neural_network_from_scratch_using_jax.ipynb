{
  "metadata": {
    "kernelspec": {
      "language": "python",
      "display_name": "Python 3",
      "name": "python3"
    },
    "language_info": {
      "name": "python",
      "version": "3.7.12",
      "mimetype": "text/x-python",
      "codemirror_mode": {
        "name": "ipython",
        "version": 3
      },
      "pygments_lexer": "ipython3",
      "nbconvert_exporter": "python",
      "file_extension": ".py"
    },
    "colab": {
      "provenance": [],
      "include_colab_link": true
    }
  },
  "nbformat_minor": 0,
  "nbformat": 4,
  "cells": [
    {
      "cell_type": "markdown",
      "metadata": {
        "id": "view-in-github",
        "colab_type": "text"
      },
      "source": [
        "<a href=\"https://colab.research.google.com/github/himanshu-warulkar/JAX-and-Flax-projects/blob/main/simple_neural_network_from_scratch_using_jax.ipynb\" target=\"_parent\"><img src=\"https://colab.research.google.com/assets/colab-badge.svg\" alt=\"Open In Colab\"/></a>"
      ]
    },
    {
      "cell_type": "markdown",
      "source": [
        "# Lets Build a simple Neural Network from scratch using JAX"
      ],
      "metadata": {
        "id": "ouQH2FmgWIAY"
      }
    },
    {
      "cell_type": "code",
      "source": [
        "!cat /proc/cpuinfo # check processor info"
      ],
      "metadata": {
        "_kg_hide-output": true,
        "execution": {
          "iopub.status.busy": "2022-06-20T06:37:29.193195Z",
          "iopub.execute_input": "2022-06-20T06:37:29.193578Z",
          "iopub.status.idle": "2022-06-20T06:37:30.018059Z",
          "shell.execute_reply.started": "2022-06-20T06:37:29.193549Z",
          "shell.execute_reply": "2022-06-20T06:37:30.016632Z"
        },
        "trusted": true,
        "colab": {
          "base_uri": "https://localhost:8080/"
        },
        "id": "hUaW78cWWIAa",
        "outputId": "ee6e1d2a-c4ff-4049-a7f4-4ac01e9d1e2b"
      },
      "execution_count": 1,
      "outputs": [
        {
          "output_type": "stream",
          "name": "stdout",
          "text": [
            "processor\t: 0\n",
            "vendor_id\t: GenuineIntel\n",
            "cpu family\t: 6\n",
            "model\t\t: 79\n",
            "model name\t: Intel(R) Xeon(R) CPU @ 2.20GHz\n",
            "stepping\t: 0\n",
            "microcode\t: 0xffffffff\n",
            "cpu MHz\t\t: 2200.168\n",
            "cache size\t: 56320 KB\n",
            "physical id\t: 0\n",
            "siblings\t: 2\n",
            "core id\t\t: 0\n",
            "cpu cores\t: 1\n",
            "apicid\t\t: 0\n",
            "initial apicid\t: 0\n",
            "fpu\t\t: yes\n",
            "fpu_exception\t: yes\n",
            "cpuid level\t: 13\n",
            "wp\t\t: yes\n",
            "flags\t\t: fpu vme de pse tsc msr pae mce cx8 apic sep mtrr pge mca cmov pat pse36 clflush mmx fxsr sse sse2 ss ht syscall nx pdpe1gb rdtscp lm constant_tsc rep_good nopl xtopology nonstop_tsc cpuid tsc_known_freq pni pclmulqdq ssse3 fma cx16 pcid sse4_1 sse4_2 x2apic movbe popcnt aes xsave avx f16c rdrand hypervisor lahf_lm abm 3dnowprefetch invpcid_single ssbd ibrs ibpb stibp fsgsbase tsc_adjust bmi1 hle avx2 smep bmi2 erms invpcid rtm rdseed adx smap xsaveopt arat md_clear arch_capabilities\n",
            "bugs\t\t: cpu_meltdown spectre_v1 spectre_v2 spec_store_bypass l1tf mds swapgs taa mmio_stale_data retbleed bhi\n",
            "bogomips\t: 4400.33\n",
            "clflush size\t: 64\n",
            "cache_alignment\t: 64\n",
            "address sizes\t: 46 bits physical, 48 bits virtual\n",
            "power management:\n",
            "\n",
            "processor\t: 1\n",
            "vendor_id\t: GenuineIntel\n",
            "cpu family\t: 6\n",
            "model\t\t: 79\n",
            "model name\t: Intel(R) Xeon(R) CPU @ 2.20GHz\n",
            "stepping\t: 0\n",
            "microcode\t: 0xffffffff\n",
            "cpu MHz\t\t: 2200.168\n",
            "cache size\t: 56320 KB\n",
            "physical id\t: 0\n",
            "siblings\t: 2\n",
            "core id\t\t: 0\n",
            "cpu cores\t: 1\n",
            "apicid\t\t: 1\n",
            "initial apicid\t: 1\n",
            "fpu\t\t: yes\n",
            "fpu_exception\t: yes\n",
            "cpuid level\t: 13\n",
            "wp\t\t: yes\n",
            "flags\t\t: fpu vme de pse tsc msr pae mce cx8 apic sep mtrr pge mca cmov pat pse36 clflush mmx fxsr sse sse2 ss ht syscall nx pdpe1gb rdtscp lm constant_tsc rep_good nopl xtopology nonstop_tsc cpuid tsc_known_freq pni pclmulqdq ssse3 fma cx16 pcid sse4_1 sse4_2 x2apic movbe popcnt aes xsave avx f16c rdrand hypervisor lahf_lm abm 3dnowprefetch invpcid_single ssbd ibrs ibpb stibp fsgsbase tsc_adjust bmi1 hle avx2 smep bmi2 erms invpcid rtm rdseed adx smap xsaveopt arat md_clear arch_capabilities\n",
            "bugs\t\t: cpu_meltdown spectre_v1 spectre_v2 spec_store_bypass l1tf mds swapgs taa mmio_stale_data retbleed bhi\n",
            "bogomips\t: 4400.33\n",
            "clflush size\t: 64\n",
            "cache_alignment\t: 64\n",
            "address sizes\t: 46 bits physical, 48 bits virtual\n",
            "power management:\n",
            "\n"
          ]
        }
      ]
    },
    {
      "cell_type": "markdown",
      "source": [
        "**Resources**\n",
        "\n",
        "* https://coderzcolumn.com/tutorials/artificial-intelligence/guide-to-create-simple-neural-networks-using-jax\n",
        "* https://coderzcolumn.com/tutorials/artificial-intelligence/jax-guide-to-create-convolutional-neural-networks"
      ],
      "metadata": {
        "id": "2H3tXp24WIAb"
      }
    },
    {
      "cell_type": "markdown",
      "source": [
        "# TPU setup"
      ],
      "metadata": {
        "id": "R6dAiH0FWIAb"
      }
    },
    {
      "cell_type": "code",
      "source": [
        "\n",
        "\n",
        "USE_TPU = False\n",
        "\n",
        "if USE_TPU:\n",
        "\n",
        "    import jax\n",
        "    import jax.tools.colab_tpu\n",
        "    jax.tools.colab_tpu.setup_tpu()\n",
        "else:\n",
        "    # x8 cpu devices\n",
        "    import jax\n",
        "    import os\n",
        "    os.environ[\"XLA_FLAGS\"] = '--xla_force_host_platform_device_count=2'\n",
        "\n",
        "batch_size = 202\n",
        "num_replicas = len(jax.devices())\n",
        "jax.devices()"
      ],
      "metadata": {
        "execution": {
          "iopub.status.busy": "2022-06-20T06:37:30.019997Z",
          "iopub.execute_input": "2022-06-20T06:37:30.020391Z",
          "iopub.status.idle": "2022-06-20T06:37:30.029468Z",
          "shell.execute_reply.started": "2022-06-20T06:37:30.020356Z",
          "shell.execute_reply": "2022-06-20T06:37:30.028576Z"
        },
        "trusted": true,
        "colab": {
          "base_uri": "https://localhost:8080/"
        },
        "id": "u83_Vgs9WIAc",
        "outputId": "cb1993ba-9083-4810-82dc-9fb93c2fecdb"
      },
      "execution_count": 2,
      "outputs": [
        {
          "output_type": "execute_result",
          "data": {
            "text/plain": [
              "[CpuDevice(id=0), CpuDevice(id=1)]"
            ]
          },
          "metadata": {},
          "execution_count": 2
        }
      ]
    },
    {
      "cell_type": "code",
      "source": [
        "print(\"JAX Version : {}\".format(jax.__version__))"
      ],
      "metadata": {
        "execution": {
          "iopub.status.busy": "2022-06-20T06:37:30.030945Z",
          "iopub.execute_input": "2022-06-20T06:37:30.031306Z",
          "iopub.status.idle": "2022-06-20T06:37:30.050535Z",
          "shell.execute_reply.started": "2022-06-20T06:37:30.031275Z",
          "shell.execute_reply": "2022-06-20T06:37:30.049271Z"
        },
        "trusted": true,
        "colab": {
          "base_uri": "https://localhost:8080/"
        },
        "id": "NHnryPZAWIAc",
        "outputId": "a2018e53-bdb2-4d97-d6b3-53895584686c"
      },
      "execution_count": 3,
      "outputs": [
        {
          "output_type": "stream",
          "name": "stdout",
          "text": [
            "JAX Version : 0.5.2\n"
          ]
        }
      ]
    },
    {
      "cell_type": "markdown",
      "source": [
        "# Imports"
      ],
      "metadata": {
        "id": "VZO-OEgeWIAd"
      }
    },
    {
      "cell_type": "code",
      "source": [
        "\n",
        "import numpy as np\n",
        "import jax.numpy as jnp\n",
        "\n",
        "#just in time compilation\n",
        "from jax import jit\n",
        "#for tracing functions\n",
        "from jax import make_jaxpr\n",
        "\n",
        "#for auto dif\n",
        "from jax import grad\n",
        "from jax import value_and_grad\n",
        "\n",
        "#vectorization\n",
        "from jax import vmap\n",
        "\n",
        "#parallelization (across devices)\n",
        "from jax import pmap\n",
        "\n",
        "\n",
        "import tensorflow as tf\n",
        "import matplotlib.pyplot as plt\n",
        "from tqdm import tqdm"
      ],
      "metadata": {
        "execution": {
          "iopub.status.busy": "2022-06-20T06:37:30.052911Z",
          "iopub.execute_input": "2022-06-20T06:37:30.053680Z",
          "iopub.status.idle": "2022-06-20T06:37:30.063070Z",
          "shell.execute_reply.started": "2022-06-20T06:37:30.053645Z",
          "shell.execute_reply": "2022-06-20T06:37:30.062192Z"
        },
        "trusted": true,
        "id": "od7JdS86WIAd"
      },
      "execution_count": 4,
      "outputs": []
    },
    {
      "cell_type": "markdown",
      "source": [
        "# Configuration"
      ],
      "metadata": {
        "id": "djMFpghkWIAd"
      }
    },
    {
      "cell_type": "code",
      "source": [
        "class CFG:\n",
        "    TPU = USE_TPU\n",
        "    jax_seed = jax.random.PRNGKey(7)\n",
        "    input_features = 13\n",
        "\n"
      ],
      "metadata": {
        "execution": {
          "iopub.status.busy": "2022-06-20T06:37:30.064230Z",
          "iopub.execute_input": "2022-06-20T06:37:30.064732Z",
          "iopub.status.idle": "2022-06-20T06:37:30.079565Z",
          "shell.execute_reply.started": "2022-06-20T06:37:30.064701Z",
          "shell.execute_reply": "2022-06-20T06:37:30.078613Z"
        },
        "trusted": true,
        "id": "PPrMTxqjWIAe"
      },
      "execution_count": 5,
      "outputs": []
    },
    {
      "cell_type": "markdown",
      "source": [
        "**Loading Dataset**\n",
        "\n",
        "     We will use the Boston Housing Dataset for training the model to predict house prices"
      ],
      "metadata": {
        "id": "24aI505FWIAe"
      }
    },
    {
      "cell_type": "code",
      "source": [
        "#load data from kereas dataset\n",
        "(X_train,Y_train),(X_test,Y_test)=tf.keras.datasets.boston_housing.load_data(path=\"boston_housing.npz\", test_split=0.2, seed=113)\n",
        "\n",
        "\n",
        "\n",
        "#convert into jax numpy arrays\n",
        "X_train,X_test,Y_train,Y_test= jnp.array(X_train, dtype=jnp.float32),\\\n",
        "                                   jnp.array(X_test, dtype=jnp.float32),\\\n",
        "                                   jnp.array(Y_train, dtype=jnp.float32),\\\n",
        "                                   jnp.array(Y_test, dtype=jnp.float32)\n",
        "\n",
        "X_train.shape,X_test.shape"
      ],
      "metadata": {
        "execution": {
          "iopub.status.busy": "2022-06-20T06:37:30.080783Z",
          "iopub.execute_input": "2022-06-20T06:37:30.081239Z",
          "iopub.status.idle": "2022-06-20T06:37:30.101102Z",
          "shell.execute_reply.started": "2022-06-20T06:37:30.081198Z",
          "shell.execute_reply": "2022-06-20T06:37:30.100172Z"
        },
        "trusted": true,
        "colab": {
          "base_uri": "https://localhost:8080/"
        },
        "id": "bs2yox_nWIAf",
        "outputId": "f58fe152-1360-4f12-c679-544a476a2b6b"
      },
      "execution_count": 6,
      "outputs": [
        {
          "output_type": "stream",
          "name": "stdout",
          "text": [
            "Downloading data from https://storage.googleapis.com/tensorflow/tf-keras-datasets/boston_housing.npz\n",
            "\u001b[1m57026/57026\u001b[0m \u001b[32m━━━━━━━━━━━━━━━━━━━━\u001b[0m\u001b[37m\u001b[0m \u001b[1m0s\u001b[0m 0us/step\n"
          ]
        },
        {
          "output_type": "execute_result",
          "data": {
            "text/plain": [
              "((404, 13), (102, 13))"
            ]
          },
          "metadata": {},
          "execution_count": 6
        }
      ]
    },
    {
      "cell_type": "markdown",
      "source": [
        "# A simple Neural Network\n",
        "\n",
        "    A simple Dense layer can be expressed mathematically as output = WX + B ; where X is the input , W is the weight matrix and B is bias matrix. This is followed by a non-linear activation like Relu. Hence the output = Relu(WX + B)\n",
        "    \n",
        "    We can just repeat this process for adding new dense layers, hence output2 = Relu( W(output1) + B) ; where output1 is output from the first dense layer.\n",
        "    \n",
        "    Lets try to do this operation using JAX"
      ],
      "metadata": {
        "id": "TLAzgHZfWIAf"
      }
    },
    {
      "cell_type": "code",
      "source": [
        "def Initialize_W_B(layer_units,\n",
        "                   seed=CFG.jax_seed\n",
        "                  ):\n",
        "    '''initialize weights and biases\n",
        "    Input:\n",
        "    layer_units:list of dense layer units '''\n",
        "\n",
        "    weights_and_bias = []\n",
        "\n",
        "    for i, units in enumerate(layer_units):\n",
        "\n",
        "        #first layer weight has dimn (num_units,input shape)\n",
        "        if i==0:\n",
        "            w = jax.random.uniform(key=seed, shape=(units, CFG.input_features), minval=-1.0, maxval=1.0, dtype=jnp.float32)\n",
        "\n",
        "\n",
        "        #if not first kayer\n",
        "        else:\n",
        "            w = jax.random.uniform(key=seed, shape=(units, layer_units[i-1]), minval=-1.0, maxval=1.0,\n",
        "                                   dtype=jnp.float32)\n",
        "\n",
        "        #bias vector\n",
        "        b = jax.random.uniform(key=seed, minval=-1.0, maxval=1.0, shape=(units,), dtype=jnp.float32)\n",
        "\n",
        "        #append weights\n",
        "        weights_and_bias.append([w,b])\n",
        "\n",
        "    return weights_and_bias"
      ],
      "metadata": {
        "execution": {
          "iopub.status.busy": "2022-06-20T06:37:30.102620Z",
          "iopub.execute_input": "2022-06-20T06:37:30.103529Z",
          "iopub.status.idle": "2022-06-20T06:37:30.113975Z",
          "shell.execute_reply.started": "2022-06-20T06:37:30.103480Z",
          "shell.execute_reply": "2022-06-20T06:37:30.113031Z"
        },
        "trusted": true,
        "id": "4Zew4dooWIAf"
      },
      "execution_count": 7,
      "outputs": []
    },
    {
      "cell_type": "code",
      "source": [
        "#lets define our neural network usinng the function defined above\n",
        "\n",
        "CFG.layer_units = [32,16,1]\n",
        "\n",
        "Weights_n_B= Initialize_W_B(CFG.layer_units)\n",
        "\n",
        "for i,layer in enumerate(Weights_n_B):\n",
        "    print(f'Layer {i}  --->  Weight matrix: {layer[0].shape} || Bias vector : {layer[1].shape}')"
      ],
      "metadata": {
        "execution": {
          "iopub.status.busy": "2022-06-20T06:37:30.115408Z",
          "iopub.execute_input": "2022-06-20T06:37:30.116404Z",
          "iopub.status.idle": "2022-06-20T06:37:30.137793Z",
          "shell.execute_reply.started": "2022-06-20T06:37:30.116353Z",
          "shell.execute_reply": "2022-06-20T06:37:30.136395Z"
        },
        "trusted": true,
        "colab": {
          "base_uri": "https://localhost:8080/"
        },
        "id": "43_fAZGuWIAf",
        "outputId": "6bc1bc0a-fe4c-4a10-b376-05d9e620cb75"
      },
      "execution_count": 8,
      "outputs": [
        {
          "output_type": "stream",
          "name": "stdout",
          "text": [
            "Layer 0  --->  Weight matrix: (32, 13) || Bias vector : (32,)\n",
            "Layer 1  --->  Weight matrix: (16, 32) || Bias vector : (16,)\n",
            "Layer 2  --->  Weight matrix: (1, 16) || Bias vector : (1,)\n"
          ]
        }
      ]
    },
    {
      "cell_type": "markdown",
      "source": [
        "# Building a dense Neural layer"
      ],
      "metadata": {
        "id": "aOVxHwvVWIAg"
      }
    },
    {
      "cell_type": "code",
      "source": [
        "\n",
        "# activation_function =\n",
        "\n",
        "def linear_layer(inp,layer_weights):\n",
        "    '''performs dot product between weights and a single input.\n",
        "\n",
        "\n",
        "      if input has m features; and layer has n units ; the output will dot(1*m,m*n) -> 1 * n '''\n",
        "    W,b = layer_weights\n",
        "\n",
        "    return (jnp.dot(inp,W.T) + b)\n",
        "\n",
        "\n",
        "def activated_dense(inp,layer_weights,activation=None):\n",
        "    lin = linear_layer(inp,layer_weights)\n",
        "\n",
        "\n",
        "    if activation == None:\n",
        "        return lin\n",
        "    elif activation == 'relu':\n",
        "\n",
        "        return jnp.maximum(jnp.zeros_like(a=lin),lin)\n",
        "\n",
        "    else:\n",
        "        return activation(lin)\n"
      ],
      "metadata": {
        "execution": {
          "iopub.status.busy": "2022-06-20T06:37:30.139194Z",
          "iopub.execute_input": "2022-06-20T06:37:30.140035Z",
          "iopub.status.idle": "2022-06-20T06:37:30.154342Z",
          "shell.execute_reply.started": "2022-06-20T06:37:30.139970Z",
          "shell.execute_reply": "2022-06-20T06:37:30.153223Z"
        },
        "trusted": true,
        "id": "Xtaq10EmWIAg"
      },
      "execution_count": 9,
      "outputs": []
    },
    {
      "cell_type": "markdown",
      "source": [
        "**Trial run of this Dense layer function**\n",
        "\n",
        "    all we are doing here is :\n",
        "    1) linear_layer =  WX + b\n",
        "    2)  Relu_activation(linear_layer)\n",
        "    \n",
        "    This gives us a single Dense layer."
      ],
      "metadata": {
        "id": "coYeAjasWIAg"
      }
    },
    {
      "cell_type": "code",
      "source": [
        "# input = 1* 13 : output : (1*13 @13*32) + 1*32 -> 1*32\n",
        "\n",
        "activated_dense(inp=X_train[0],\n",
        "                layer_weights=Weights_n_B[0],\n",
        "                activation='relu')"
      ],
      "metadata": {
        "execution": {
          "iopub.status.busy": "2022-06-20T06:37:30.156672Z",
          "iopub.execute_input": "2022-06-20T06:37:30.157820Z",
          "iopub.status.idle": "2022-06-20T06:37:30.172732Z",
          "shell.execute_reply.started": "2022-06-20T06:37:30.157755Z",
          "shell.execute_reply": "2022-06-20T06:37:30.171899Z"
        },
        "trusted": true,
        "colab": {
          "base_uri": "https://localhost:8080/"
        },
        "id": "mB-K-5h9WIAg",
        "outputId": "eb590654-b5a2-4fde-ef8b-079233f3a723"
      },
      "execution_count": 10,
      "outputs": [
        {
          "output_type": "execute_result",
          "data": {
            "text/plain": [
              "Array([  6.95007, 191.62221, 344.90616,   0.     , 167.05762, 714.6283 ,\n",
              "       339.20795, 326.6767 , 301.65125, 156.95317,  18.5743 ,   0.     ,\n",
              "         0.     ,   0.     , 333.99103, 102.00512, 541.8057 ,   0.     ,\n",
              "         0.     ,   0.     , 193.69907, 234.57742, 243.62715, 449.98648,\n",
              "       265.86432,   0.     ,   0.     ,   0.     ,   0.     ,   0.     ,\n",
              "         0.     , 636.3553 ], dtype=float32)"
            ]
          },
          "metadata": {},
          "execution_count": 10
        }
      ]
    },
    {
      "cell_type": "markdown",
      "source": [
        "# Putting together the multiple units of NN"
      ],
      "metadata": {
        "id": "xe6tr7RPWIAg"
      }
    },
    {
      "cell_type": "code",
      "source": [
        "# def ForwardPass(input_example,weights):\n",
        "#     '''forward pass for a single training example'''\n",
        "\n",
        "#     x = input_example\n",
        "\n",
        "#     #iterate till the last layer\n",
        "#     for layer_num in range(len(weights[:-1])):\n",
        "\n",
        "#         print(layer_num,x.shape)\n",
        "#         x = activated_dense(inp=x,\n",
        "#                             layer_weights=weights[layer_num],\n",
        "#                             activation='relu')\n",
        "\n",
        "#     output = activated_dense(inp=x,\n",
        "#                             layer_weights=weights[layer_num],\n",
        "#                             activation=None)\n",
        "\n",
        "#     return output\n",
        "\n",
        "def my_forward_pass(input_example,weights):\n",
        "    '''simple forward pass of our NN'''\n",
        "\n",
        "    #first dense\n",
        "    layer_1_out = activated_dense(inp=input_example,\n",
        "                                layer_weights=weights[0],\n",
        "                                activation='relu')\n",
        "\n",
        "\n",
        "    #secnd dense\n",
        "    layer_2_out = activated_dense(inp=layer_1_out,\n",
        "                                layer_weights=weights[1],activation='relu')\n",
        "\n",
        "    #final out\n",
        "\n",
        "    final_out = activated_dense(inp=layer_2_out,\n",
        "                                layer_weights=weights[2],\n",
        "                                activation=None)\n",
        "\n",
        "\n",
        "    return final_out"
      ],
      "metadata": {
        "execution": {
          "iopub.status.busy": "2022-06-20T06:37:30.173876Z",
          "iopub.execute_input": "2022-06-20T06:37:30.174469Z",
          "iopub.status.idle": "2022-06-20T06:37:30.185388Z",
          "shell.execute_reply.started": "2022-06-20T06:37:30.174421Z",
          "shell.execute_reply": "2022-06-20T06:37:30.184201Z"
        },
        "trusted": true,
        "id": "pPOIH5n1WIAh"
      },
      "execution_count": 11,
      "outputs": []
    },
    {
      "cell_type": "markdown",
      "source": [
        "# The Neural Network forward pass"
      ],
      "metadata": {
        "id": "uKv_OPLIWIAi"
      }
    },
    {
      "cell_type": "code",
      "source": [
        "my_forward_pass(input_example=X_train[0],\n",
        "                weights=Weights_n_B) # Remove np.array conversion"
      ],
      "metadata": {
        "execution": {
          "iopub.status.busy": "2022-06-20T06:37:30.186538Z",
          "iopub.execute_input": "2022-06-20T06:37:30.186865Z",
          "iopub.status.idle": "2022-06-20T06:37:30.210402Z",
          "shell.execute_reply.started": "2022-06-20T06:37:30.186837Z",
          "shell.execute_reply": "2022-06-20T06:37:30.209251Z"
        },
        "trusted": true,
        "colab": {
          "base_uri": "https://localhost:8080/"
        },
        "id": "vRQj7emSWIAi",
        "outputId": "3f1c56a1-1a35-411c-c23b-e5a4a0e78981"
      },
      "execution_count": 13,
      "outputs": [
        {
          "output_type": "execute_result",
          "data": {
            "text/plain": [
              "Array([-316.45602], dtype=float32)"
            ]
          },
          "metadata": {},
          "execution_count": 13
        }
      ]
    },
    {
      "cell_type": "markdown",
      "source": [
        "**we can also check what is happening with our input using this code**"
      ],
      "metadata": {
        "id": "d8QwANC4WIAi"
      }
    },
    {
      "cell_type": "code",
      "source": [
        "#we can also check what is happening with our input using this code\n",
        "trace_my_forward_pass = make_jaxpr(my_forward_pass)\n",
        "\n",
        "trace_my_forward_pass(X_train[0],Weights_n_B)"
      ],
      "metadata": {
        "execution": {
          "iopub.status.busy": "2022-06-20T06:37:30.211925Z",
          "iopub.execute_input": "2022-06-20T06:37:30.212986Z",
          "iopub.status.idle": "2022-06-20T06:37:30.241156Z",
          "shell.execute_reply.started": "2022-06-20T06:37:30.212939Z",
          "shell.execute_reply": "2022-06-20T06:37:30.240047Z"
        },
        "trusted": true,
        "colab": {
          "base_uri": "https://localhost:8080/"
        },
        "id": "I527aJ3LWIAi",
        "outputId": "e335b071-5260-4944-f662-3aac83efa880"
      },
      "execution_count": 14,
      "outputs": [
        {
          "output_type": "execute_result",
          "data": {
            "text/plain": [
              "{ lambda ; a:f32[13] b:f32[32,13] c:f32[32] d:f32[16,32] e:f32[16] f:f32[1,16] g:f32[1]. let\n",
              "    h:f32[13,32] = transpose[permutation=(1, 0)] b\n",
              "    i:f32[32] = dot_general[\n",
              "      dimension_numbers=(([0], [0]), ([], []))\n",
              "      preferred_element_type=float32\n",
              "    ] a h\n",
              "    j:f32[32] = add i c\n",
              "    k:f32[32] = broadcast_in_dim[\n",
              "      broadcast_dimensions=()\n",
              "      shape=(32,)\n",
              "      sharding=None\n",
              "    ] 0.0\n",
              "    l:f32[32] = max k j\n",
              "    m:f32[32,16] = transpose[permutation=(1, 0)] d\n",
              "    n:f32[16] = dot_general[\n",
              "      dimension_numbers=(([0], [0]), ([], []))\n",
              "      preferred_element_type=float32\n",
              "    ] l m\n",
              "    o:f32[16] = add n e\n",
              "    p:f32[16] = broadcast_in_dim[\n",
              "      broadcast_dimensions=()\n",
              "      shape=(16,)\n",
              "      sharding=None\n",
              "    ] 0.0\n",
              "    q:f32[16] = max p o\n",
              "    r:f32[16,1] = transpose[permutation=(1, 0)] f\n",
              "    s:f32[1] = dot_general[\n",
              "      dimension_numbers=(([0], [0]), ([], []))\n",
              "      preferred_element_type=float32\n",
              "    ] q r\n",
              "    t:f32[1] = add s g\n",
              "  in (t,) }"
            ]
          },
          "metadata": {},
          "execution_count": 14
        }
      ]
    },
    {
      "cell_type": "markdown",
      "source": [
        "**This works as expected. We have sucessfully done a forward pass of the Neural network with 32,16,1 layers**"
      ],
      "metadata": {
        "id": "4Uliqnf5WIAj"
      }
    },
    {
      "cell_type": "markdown",
      "source": [
        "# Parallelizing the forward pass to make use of all the devices on the cluster\n",
        "\n",
        "    The purpose of parallelizing the operation is to use all the devices on the cluster. So if our TPU cluster has 8 devices, we can send a portion of data to each device for training in parallel and utilize the hardware better."
      ],
      "metadata": {
        "id": "tf81fJxYWIAj"
      }
    },
    {
      "cell_type": "code",
      "source": [
        "parallel_my_forward_pass = pmap(my_forward_pass,in_axes = (0,None))\n",
        "\n",
        "\n",
        "#testing the parallel map\n",
        "\n",
        "#converting the input data in the format (num_of_devices,batch_size,feature_size)\n",
        "x_batched = X_train[:batch_size*2].reshape((num_replicas,batch_size,13))\n",
        "\n",
        "\n",
        "#the output is of the format (num_device,batch_size,output_size)\n",
        "parallel_my_forward_pass(x_batched,Weights_n_B).shape"
      ],
      "metadata": {
        "execution": {
          "iopub.status.busy": "2022-06-20T06:37:30.243652Z",
          "iopub.execute_input": "2022-06-20T06:37:30.244051Z",
          "iopub.status.idle": "2022-06-20T06:37:30.313629Z",
          "shell.execute_reply.started": "2022-06-20T06:37:30.244017Z",
          "shell.execute_reply": "2022-06-20T06:37:30.312602Z"
        },
        "trusted": true,
        "colab": {
          "base_uri": "https://localhost:8080/"
        },
        "id": "dlK4da0MWIAj",
        "outputId": "d58a99a3-b360-4fda-974a-12dece6d2a6a"
      },
      "execution_count": 15,
      "outputs": [
        {
          "output_type": "execute_result",
          "data": {
            "text/plain": [
              "(2, 202, 1)"
            ]
          },
          "metadata": {},
          "execution_count": 15
        }
      ]
    },
    {
      "cell_type": "markdown",
      "source": [
        "# Defining the loss function; and backpropagating the loss\n",
        "\n",
        "    The loss for our case (Regression) will be the simple Mean Squared error, which is just the mean of squared error.\n",
        "    \n",
        "    After we get the output value and we get the loss , we can backpropagate the loss by finding the derivate of each layer with respect to the loss and thereby improve the model"
      ],
      "metadata": {
        "id": "gHO_Yg4DWIAj"
      }
    },
    {
      "cell_type": "code",
      "source": [
        "def MeanSquaredError(input_data, target,weights):\n",
        "    '''mean squared error loss : ie: mean((y_true - y_pred)^2)'''\n",
        "    preds = my_forward_pass( input_data,weights)\n",
        "    return jnp.power(target - preds, 2).mean()\n",
        "\n",
        "\n",
        "\n",
        "#lets try this out for first 10 values of trainig data\n",
        "MeanSquaredError(X_train[:10],Y_train[:10],Weights_n_B)"
      ],
      "metadata": {
        "execution": {
          "iopub.status.busy": "2022-06-20T06:37:30.315799Z",
          "iopub.execute_input": "2022-06-20T06:37:30.316234Z",
          "iopub.status.idle": "2022-06-20T06:37:30.329387Z",
          "shell.execute_reply.started": "2022-06-20T06:37:30.316196Z",
          "shell.execute_reply": "2022-06-20T06:37:30.328176Z"
        },
        "trusted": true,
        "colab": {
          "base_uri": "https://localhost:8080/"
        },
        "id": "gJ7FGVivWIAj",
        "outputId": "64d8fb71-4753-49e2-f956-f3f61d936eed"
      },
      "execution_count": 16,
      "outputs": [
        {
          "output_type": "execute_result",
          "data": {
            "text/plain": [
              "Array(133850.73, dtype=float32)"
            ]
          },
          "metadata": {},
          "execution_count": 16
        }
      ]
    },
    {
      "cell_type": "code",
      "source": [
        "\n",
        "def CalculateGradients(input_data, target,weights):\n",
        "    '''calculate the gradients of loss function wrt weights'''\n",
        "    Gradient_MSE = grad(MeanSquaredError)\n",
        "    return Gradient_MSE(input_data, target,weights)\n",
        "\n",
        "#lets try this out for first 2 values of trainig data\n",
        "CalculateGradients(X_train[:2],Y_train[:2],Weights_n_B)\n"
      ],
      "metadata": {
        "execution": {
          "iopub.status.busy": "2022-06-20T06:37:30.373972Z",
          "iopub.execute_input": "2022-06-20T06:37:30.374573Z",
          "iopub.status.idle": "2022-06-20T06:37:30.400059Z",
          "shell.execute_reply.started": "2022-06-20T06:37:30.374534Z",
          "shell.execute_reply": "2022-06-20T06:37:30.399332Z"
        },
        "trusted": true,
        "colab": {
          "base_uri": "https://localhost:8080/"
        },
        "id": "WvnM7MJrWIAj",
        "outputId": "9d359a18-3ec8-4705-ab91-842de3b6b1f1"
      },
      "execution_count": 17,
      "outputs": [
        {
          "output_type": "execute_result",
          "data": {
            "text/plain": [
              "Array([[-106.15985  , -101.64211  , -288.18997  ,  155.1807   ,\n",
              "        -134.95576  ,   15.96553  ,  157.59633  , -144.97601  ,\n",
              "         -92.50748  ,  299.95422  ,  327.91492  ,   14.881355 ,\n",
              "        -352.4676   ],\n",
              "       [ -98.57437  ,  -98.84669  , -264.39575  ,  136.28723  ,\n",
              "        -141.1933   ,   15.087387 ,  159.22345  , -136.5686   ,\n",
              "         -98.54098  ,  292.0335   ,  328.69403  ,   14.2823105,\n",
              "        -346.5394   ]], dtype=float32)"
            ]
          },
          "metadata": {},
          "execution_count": 17
        }
      ]
    },
    {
      "cell_type": "code",
      "source": [
        "def UpdateWeights(learning_rate:float, weights:list, gradients):\n",
        "    '''update weights for layers of nn'''\n",
        "\n",
        "    for j in range(len(weights)): ## Update Weights\n",
        "        weights[j][0] -= learning_rate * gradients[j][0] ## Update Weights\n",
        "        weights[j][1] -= learning_rate * gradients[j][1] ## Update Biases"
      ],
      "metadata": {
        "execution": {
          "iopub.status.busy": "2022-06-20T06:37:30.493505Z",
          "iopub.execute_input": "2022-06-20T06:37:30.494617Z",
          "iopub.status.idle": "2022-06-20T06:37:30.501194Z",
          "shell.execute_reply.started": "2022-06-20T06:37:30.494564Z",
          "shell.execute_reply": "2022-06-20T06:37:30.500097Z"
        },
        "trusted": true,
        "id": "my1JQtd_WIAk"
      },
      "execution_count": 18,
      "outputs": []
    },
    {
      "cell_type": "code",
      "source": [
        "def train_step(input_data, target,weights):\n",
        "    '''single epoch training step'''\n",
        "    loss = MeanSquaredError(input_data, target,weights) ## Loss of batch\n",
        "    gradients = CalculateGradients(input_data, target,weights)\n",
        "    UpdateWeights(learning_rate, weights, gradients) ## Update Weights\n",
        "\n",
        "    return loss\n"
      ],
      "metadata": {
        "execution": {
          "iopub.status.busy": "2022-06-20T06:37:30.563974Z",
          "iopub.execute_input": "2022-06-20T06:37:30.564380Z",
          "iopub.status.idle": "2022-06-20T06:37:30.569841Z",
          "shell.execute_reply.started": "2022-06-20T06:37:30.564344Z",
          "shell.execute_reply": "2022-06-20T06:37:30.568846Z"
        },
        "trusted": true,
        "id": "qfSG0WunWIAk"
      },
      "execution_count": 19,
      "outputs": []
    },
    {
      "cell_type": "markdown",
      "source": [
        "# Training the Neural Network"
      ],
      "metadata": {
        "id": "bAbF6NJ_WIAk"
      }
    },
    {
      "cell_type": "code",
      "source": [
        "print('Mean squared error on test set before training is {:.2f}'.format(MeanSquaredError(X_test,Y_test,Weights_n_B)))"
      ],
      "metadata": {
        "execution": {
          "iopub.status.busy": "2022-06-20T06:37:30.593334Z",
          "iopub.execute_input": "2022-06-20T06:37:30.593729Z",
          "iopub.status.idle": "2022-06-20T06:37:30.600978Z",
          "shell.execute_reply.started": "2022-06-20T06:37:30.593698Z",
          "shell.execute_reply": "2022-06-20T06:37:30.600248Z"
        },
        "trusted": true,
        "colab": {
          "base_uri": "https://localhost:8080/"
        },
        "id": "qfoyYJaFWIAk",
        "outputId": "e845966d-7473-47c1-e5a6-670f3a0f08ab"
      },
      "execution_count": 20,
      "outputs": [
        {
          "output_type": "stream",
          "name": "stdout",
          "text": [
            "Mean squared error on test set before training is 115986.38\n"
          ]
        }
      ]
    },
    {
      "cell_type": "code",
      "source": [
        "fix,ax = plt.subplots(1,3,figsize=(25,6))\n",
        "for i,axes in enumerate(ax):\n",
        "    w = Weights_n_B[i][0]\n",
        "    axes.imshow(w,cmap='gray')\n",
        "    axes.set_title(f'layer {i} Weights before train')\n",
        "\n",
        "plt.tight_layout()\n",
        "plt.show()"
      ],
      "metadata": {
        "execution": {
          "iopub.status.busy": "2022-06-20T06:37:30.608543Z",
          "iopub.execute_input": "2022-06-20T06:37:30.609208Z",
          "iopub.status.idle": "2022-06-20T06:37:31.110881Z",
          "shell.execute_reply.started": "2022-06-20T06:37:30.609171Z",
          "shell.execute_reply": "2022-06-20T06:37:31.109884Z"
        },
        "trusted": true,
        "colab": {
          "base_uri": "https://localhost:8080/",
          "height": 411
        },
        "id": "cgNYsY2nWIAk",
        "outputId": "f2c25e81-5f11-4eae-eb31-ea96364520ca"
      },
      "execution_count": 21,
      "outputs": [
        {
          "output_type": "display_data",
          "data": {
            "text/plain": [
              "<Figure size 2500x600 with 3 Axes>"
            ],
            "image/png": "[encoded data removed]"
          },
          "metadata": {}
        }
      ]
    },
    {
      "cell_type": "code",
      "source": [
        "EPOCHS = 30\n",
        "learning_rate = 0.05\n",
        "print_freq = 10"
      ],
      "metadata": {
        "execution": {
          "iopub.status.busy": "2022-06-20T06:37:31.112532Z",
          "iopub.execute_input": "2022-06-20T06:37:31.113386Z",
          "iopub.status.idle": "2022-06-20T06:37:31.118733Z",
          "shell.execute_reply.started": "2022-06-20T06:37:31.113341Z",
          "shell.execute_reply": "2022-06-20T06:37:31.117101Z"
        },
        "trusted": true,
        "id": "-bhzyu6RWIAk"
      },
      "execution_count": 22,
      "outputs": []
    },
    {
      "cell_type": "code",
      "source": [
        "losses = []\n",
        "for epoch in tqdm(range(EPOCHS)):\n",
        "\n",
        "    loss = train_step(X_train,Y_train,Weights_n_B)\n",
        "    if epoch % print_freq == 0: ## Print MSE every n epochs\n",
        "        print(\"MSE : {:.2f} at epoch {}\".format(jnp.array(loss).mean(),epoch))\n",
        "\n",
        "\n",
        ""
      ],
      "metadata": {
        "execution": {
          "iopub.status.busy": "2022-06-20T06:37:31.120424Z",
          "iopub.execute_input": "2022-06-20T06:37:31.121513Z",
          "iopub.status.idle": "2022-06-20T06:37:31.970570Z",
          "shell.execute_reply.started": "2022-06-20T06:37:31.121470Z",
          "shell.execute_reply": "2022-06-20T06:37:31.969360Z"
        },
        "trusted": true,
        "colab": {
          "base_uri": "https://localhost:8080/"
        },
        "id": "a83yp_n7WIAl",
        "outputId": "20099965-caaa-4ab7-fac2-ae4ca62cae52"
      },
      "execution_count": 23,
      "outputs": [
        {
          "output_type": "stream",
          "name": "stderr",
          "text": [
            " 10%|█         | 3/30 [00:02<00:19,  1.36it/s]"
          ]
        },
        {
          "output_type": "stream",
          "name": "stdout",
          "text": [
            "MSE : 112263.19 at epoch 0\n"
          ]
        },
        {
          "output_type": "stream",
          "name": "stderr",
          "text": [
            " 50%|█████     | 15/30 [00:03<00:01, 10.70it/s]"
          ]
        },
        {
          "output_type": "stream",
          "name": "stdout",
          "text": [
            "MSE : 583.18 at epoch 10\n"
          ]
        },
        {
          "output_type": "stream",
          "name": "stderr",
          "text": [
            "100%|██████████| 30/30 [00:03<00:00,  7.78it/s]"
          ]
        },
        {
          "output_type": "stream",
          "name": "stdout",
          "text": [
            "MSE : 583.18 at epoch 20\n"
          ]
        },
        {
          "output_type": "stream",
          "name": "stderr",
          "text": [
            "\n"
          ]
        }
      ]
    },
    {
      "cell_type": "code",
      "source": [
        "\n",
        "fix,ax = plt.subplots(1,3,figsize=(25,6))\n",
        "for i,axes in enumerate(ax):\n",
        "    w = Weights_n_B[i][0]\n",
        "    axes.imshow(w,cmap='gray')\n",
        "    axes.set_title(f'layer {i} Weights after train')\n",
        "\n",
        "plt.tight_layout()\n",
        "plt.show()"
      ],
      "metadata": {
        "execution": {
          "iopub.status.busy": "2022-06-20T06:37:31.972180Z",
          "iopub.execute_input": "2022-06-20T06:37:31.973025Z",
          "iopub.status.idle": "2022-06-20T06:37:32.509125Z",
          "shell.execute_reply.started": "2022-06-20T06:37:31.972978Z",
          "shell.execute_reply": "2022-06-20T06:37:32.507531Z"
        },
        "trusted": true,
        "colab": {
          "base_uri": "https://localhost:8080/",
          "height": 411
        },
        "id": "L4sea8d1WIAl",
        "outputId": "8db3ae59-34d5-438b-dfc9-42e595704dd4"
      },
      "execution_count": 24,
      "outputs": [
        {
          "output_type": "display_data",
          "data": {
            "text/plain": [
              "<Figure size 2500x600 with 3 Axes>"
            ],
            "image/png": "[encoded data removed]"
          },
          "metadata": {}
        }
      ]
    },
    {
      "cell_type": "markdown",
      "source": [
        "# Checking the performace on test set"
      ],
      "metadata": {
        "id": "OZr9RAEdWIAl"
      }
    },
    {
      "cell_type": "code",
      "source": [
        "print('Mean squared error on test set after training is {:.2f}'.format(MeanSquaredError(X_test,Y_test,Weights_n_B)))"
      ],
      "metadata": {
        "execution": {
          "iopub.status.busy": "2022-06-20T06:37:32.511425Z",
          "iopub.execute_input": "2022-06-20T06:37:32.512293Z",
          "iopub.status.idle": "2022-06-20T06:37:32.521869Z",
          "shell.execute_reply.started": "2022-06-20T06:37:32.512215Z",
          "shell.execute_reply": "2022-06-20T06:37:32.520699Z"
        },
        "trusted": true,
        "colab": {
          "base_uri": "https://localhost:8080/"
        },
        "id": "yBg-805HWIAl",
        "outputId": "a0e39aa8-4fd0-47b4-e60b-3af5ff0bef63"
      },
      "execution_count": 25,
      "outputs": [
        {
          "output_type": "stream",
          "name": "stdout",
          "text": [
            "Mean squared error on test set after training is 605.85\n"
          ]
        }
      ]
    },
    {
      "cell_type": "markdown",
      "source": [
        "**Parallelizing the training**"
      ],
      "metadata": {
        "id": "A1_kO8gsWIAl"
      }
    },
    {
      "cell_type": "code",
      "source": [
        "parallel_train_step = pmap(train_step,\n",
        "                           in_axes=(0,0,None) # which input axes do we want to parallelize\n",
        "                          )\n",
        "def shard_data(X,y=None,batch_size=batch_size,num_replicas=num_replicas):\n",
        "    '''converts the input data in the format (num_of_devices,batch_size,feature_size)'''\n",
        "    features = X.shape[1]\n",
        "\n",
        "    if y is not None:\n",
        "        return X.reshape((num_replicas,batch_size,features)),y.reshape((num_replicas,batch_size,1))\n",
        "\n",
        "\n",
        "    return X.reshape((num_replicas,batch_size,features))\n",
        "\n",
        "\n",
        "#sharded data (to get the input in format: num_of_devices,batch_size,feature_size)\n",
        "x_sharded,y_sharded = shard_data(X_train,Y_train)\n",
        "\n",
        "\n",
        "x_sharded.shape,y_sharded.shape"
      ],
      "metadata": {
        "execution": {
          "iopub.status.busy": "2022-06-20T06:37:32.523559Z",
          "iopub.execute_input": "2022-06-20T06:37:32.523959Z",
          "iopub.status.idle": "2022-06-20T06:37:32.539367Z",
          "shell.execute_reply.started": "2022-06-20T06:37:32.523911Z",
          "shell.execute_reply": "2022-06-20T06:37:32.537937Z"
        },
        "trusted": true,
        "colab": {
          "base_uri": "https://localhost:8080/"
        },
        "id": "5PuoTklUWIAl",
        "outputId": "58f0267e-dff8-49f2-d913-9bd9f65548d2"
      },
      "execution_count": 26,
      "outputs": [
        {
          "output_type": "execute_result",
          "data": {
            "text/plain": [
              "((2, 202, 13), (2, 202, 1))"
            ]
          },
          "metadata": {},
          "execution_count": 26
        }
      ]
    }
  ]
}